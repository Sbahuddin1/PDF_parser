{
 "cells": [
  {
   "cell_type": "code",
   "execution_count": 8,
   "id": "e04f43a8",
   "metadata": {},
   "outputs": [],
   "source": [
    "import os\n",
    "import base64\n",
    "import pandas as pd\n",
    "from dotenv import load_dotenv\n",
    "from langchain_core.messages import HumanMessage\n",
    "from langchain_google_genai import ChatGoogleGenerativeAI"
   ]
  },
  {
   "cell_type": "code",
   "execution_count": 4,
   "id": "77195a7e",
   "metadata": {},
   "outputs": [],
   "source": [
    "# Configure Gemini\n",
    "load_dotenv()\n",
    "\n",
    "llm = ChatGoogleGenerativeAI(model=\"models/gemini-2.0-flash\",\n",
    "                             temperature=0,\n",
    "                             api_key=os.getenv(\"api_key\"))"
   ]
  },
  {
   "cell_type": "code",
   "execution_count": null,
   "id": "6b5c0abf",
   "metadata": {},
   "outputs": [],
   "source": [
    "def get_text_from_img(image_path):\n",
    "    \"\"\"\n",
    "    Extract text from an image using Gemini.\n",
    "    \"\"\"\n",
    "    with open(image_path, \"rb\") as image_file:\n",
    "        encoded_image = base64.b64encode(image_file.read()).decode('utf-8')\n",
    "\n",
    "    message_lcoal = HumanMessage(\n",
    "        content=[{\n",
    "            \"type\": \"text\",\n",
    "            \"text\": \"Extract text from the image in CSV format.\"\n",
    "        }, {\n",
    "            \"type\": \"image_url\",\n",
    "            \"image_url\": f\"data:image/png;base64,{encoded_image}\"\n",
    "        }])\n",
    "    response = llm.invoke([message_lcoal])\n",
    "    print(response.content)\n"
   ]
  },
  {
   "cell_type": "code",
   "execution_count": 21,
   "id": "1f04e351",
   "metadata": {},
   "outputs": [
    {
     "name": "stdout",
     "output_type": "stream",
     "text": [
      "```csv\n",
      "Field,Value\n",
      "Restaurant Name,Sésame\n",
      "Address,51 QUAI DE VALMY-75010 PARIS\n",
      "Phone,01.42.49.03.21\n",
      "Table,1\n",
      "Cover,2\n",
      "Customer,ALEXANDRE\n",
      "Item,1 SOUPE DU JOUR\n",
      "Price,5.00\n",
      "Item,1 TIRAMISU\n",
      "Price,5.00\n",
      "Item,1 BAGUETTE LEGUME/CHEURE\n",
      "Price,6.50\n",
      "Item,1 THE\n",
      "Price,3.70\n",
      "Item,1 SMOOTHIE B\n",
      "Price,4.50\n",
      "TVA Rate,19.6%\n",
      "HT,20.65\n",
      "TVA,4.05\n",
      "TTC,24.70\n",
      "TOTAL,24.70\n",
      "Date,26-09-2008\n",
      "Time,17:03:45\n",
      "Other,Cle 11-Serv. 10-CAISSE 1-NOTE 010151/1\n",
      "Other,MERCI DE VOTRE VISITE\n",
      "Other,A BIENTOT\n",
      "Other,SARL DLM & CO\n",
      "Other,RCS PARIS 490 456 100\n",
      "```\n"
     ]
    }
   ],
   "source": [
    "get_text_from_img(\"./data_files/img2.jpg\")"
   ]
  },
  {
   "cell_type": "code",
   "execution_count": null,
   "id": "1d6dd865",
   "metadata": {},
   "outputs": [],
   "source": [
    "# now you can use pandas to store the csv in exel , this work is pending for now :>"
   ]
  }
 ],
 "metadata": {
  "kernelspec": {
   "display_name": "venv",
   "language": "python",
   "name": "python3"
  },
  "language_info": {
   "codemirror_mode": {
    "name": "ipython",
    "version": 3
   },
   "file_extension": ".py",
   "mimetype": "text/x-python",
   "name": "python",
   "nbconvert_exporter": "python",
   "pygments_lexer": "ipython3",
   "version": "3.12.5"
  }
 },
 "nbformat": 4,
 "nbformat_minor": 5
}
