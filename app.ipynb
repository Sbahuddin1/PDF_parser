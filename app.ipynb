{
 "cells": [
  {
   "cell_type": "code",
   "execution_count": null,
   "id": "970eed98",
   "metadata": {},
   "outputs": [],
   "source": [
    "import os\n",
    "from langchain_google_genai import ChatGoogleGenerativeAI\n",
    "from pypdf import PdfReader\n",
    "from reportlab.platypus import SimpleDocTemplate, Paragraph, Spacer\n",
    "from reportlab.lib.styles import getSampleStyleSheet\n",
    "from dotenv import load_dotenv\n"
   ]
  },
  {
   "cell_type": "code",
   "execution_count": 11,
   "id": "6d3f9a68",
   "metadata": {},
   "outputs": [],
   "source": [
    "# Configure Gemini\n",
    "load_dotenv()\n",
    "\n",
    "llm = ChatGoogleGenerativeAI(model=\"models/gemini-2.0-flash\",\n",
    "                             temperature=0,\n",
    "                             api_key=os.getenv(\"api_key\"))"
   ]
  },
  {
   "cell_type": "code",
   "execution_count": 7,
   "id": "ba71a742",
   "metadata": {},
   "outputs": [],
   "source": [
    "def extract_text_from_pdf(pdf_path):\n",
    "    reader = PdfReader(pdf_path)\n",
    "    text = \"\"\n",
    "\n",
    "    for page in reader.pages:\n",
    "        text += page.extract_text() + \"\\n\"\n",
    "    return text.strip()"
   ]
  },
  {
   "cell_type": "code",
   "execution_count": 8,
   "id": "d5462cbd",
   "metadata": {},
   "outputs": [],
   "source": [
    "def LLM_extract_specs(text):\n",
    "    prompt = f\"\"\"\n",
    "    You are an expert at extracting phone specs.\n",
    "\n",
    "    From the following text, extract ONLY:\n",
    "    - Name\n",
    "    - Dimensions\n",
    "    - Weight\n",
    "    - Screen Size (inches)\n",
    "    - CPU (e.g., Snapdragon 8 Gen 3, bionic 17, dimensity 9600, etc.)\n",
    "\n",
    "    Text:\n",
    "    {text}\n",
    "\n",
    "    Return output in clean format like:\n",
    "    Name: ...\n",
    "    Dimensions: ...\n",
    "    Weight: ...\n",
    "    Screen Size: ...\n",
    "    CPU: ...\n",
    "    \"\"\"\n",
    "\n",
    "    response = llm.invoke(prompt)\n",
    "    return response.content.strip()"
   ]
  },
  {
   "cell_type": "code",
   "execution_count": null,
   "id": "7245a58f",
   "metadata": {},
   "outputs": [],
   "source": [
    "def print_specs(input_path):\n",
    "    text = extract_text_from_pdf(input_path)\n",
    "    content = LLM_extract_specs(text)\n",
    "\n",
    "    styles = getSampleStyleSheet()\n",
    "\n",
    "    filename = os.path.splitext(os.path.basename(input_path))[0]\n",
    "    output_name = f\"specs_{filename}.pdf\"\n",
    "\n",
    "    doc = SimpleDocTemplate(output_name)\n",
    "    story = [\n",
    "        Paragraph(\"Phone Specifications Extracted:\", styles['Title']),\n",
    "        Spacer(1, 12)\n",
    "    ]\n",
    "\n",
    "    for line in content.split('\\n'):\n",
    "        story.append(Paragraph(line, styles['Normal']))\n",
    "        story.append(Spacer(1, 6))\n",
    "\n",
    "    doc.build(story)\n"
   ]
  },
  {
   "cell_type": "code",
   "execution_count": 10,
   "id": "57e9ae72",
   "metadata": {},
   "outputs": [],
   "source": [
    "print_specs(\"./data_files/a1.pdf\")  # Replace with your PDF file path"
   ]
  }
 ],
 "metadata": {
  "kernelspec": {
   "display_name": "venv",
   "language": "python",
   "name": "python3"
  },
  "language_info": {
   "codemirror_mode": {
    "name": "ipython",
    "version": 3
   },
   "file_extension": ".py",
   "mimetype": "text/x-python",
   "name": "python",
   "nbconvert_exporter": "python",
   "pygments_lexer": "ipython3",
   "version": "3.12.5"
  }
 },
 "nbformat": 4,
 "nbformat_minor": 5
}
